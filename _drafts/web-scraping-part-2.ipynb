{
 "cells": [
  {
   "cell_type": "markdown",
   "metadata": {},
   "source": [
    "# Introduction\n",
    "Hello!  In this tutorial we will scrape a more complicated webage from Wikipedia.  This is a continuation of [Part 1](https://onefortheroad.github.io/python/tutorial/2017/04/29/web-scraping-part-1/) where we learned the basics of web scraping.\n",
    "\n",
    "When we left off Part 1, we had a *pandas* dataframe containing the Top 100 Canadian Beers. I'd like to add some **geospatial** information to our beer list so I can plan a pilgrimage to these fantastic breweries.  (Actually, we'll use this geospatial information in a future tutorial on visualization.)  Wikipedia's [List of Breweries in Canada](https://en.wikipedia.org/wiki/List_of_breweries_in_Canada) is a fine place to start.  Let's go!"
   ]
  },
  {
   "cell_type": "markdown",
   "metadata": {},
   "source": [
    "## Contents\n"
   ]
  },
  {
   "cell_type": "markdown",
   "metadata": {},
   "source": [
    "# 1. Import Libraries"
   ]
  },
  {
   "cell_type": "code",
   "execution_count": 1,
   "metadata": {
    "collapsed": true
   },
   "outputs": [],
   "source": [
    "import re\n",
    "import requests\n",
    "from bs4 import BeautifulSoup\n",
    "import pandas as pd"
   ]
  },
  {
   "cell_type": "markdown",
   "metadata": {},
   "source": [
    "# 2. Download the web page"
   ]
  },
  {
   "cell_type": "code",
   "execution_count": 2,
   "metadata": {
    "collapsed": true
   },
   "outputs": [],
   "source": [
    "url = 'https://en.wikipedia.org/wiki/List_of_breweries_in_Canada'\n",
    "page = requests.get(url)"
   ]
  },
  {
   "cell_type": "markdown",
   "metadata": {},
   "source": [
    "# 3. Examine the HTML\n",
    "Looking at the [wiki](https://en.wikipedia.org/wiki/List_of_breweries_in_Canada), the breweries are listed by province.  The HTML for the breweries in Alberta looks like this:"
   ]
  },
  {
   "cell_type": "markdown",
   "metadata": {},
   "source": [
    "```html\n",
    "<h3><span class=\"mw-headline\" id=\"Alberta\">Alberta</span><span class=\"mw-editsection\"><span class=\"mw-editsection-bracket\">[</span><a href=\"/w/index.php?title=List_of_breweries_in_Canada&amp;action=edit&amp;section=2\" title=\"Edit section: Alberta\">edit</a><span class=\"mw-editsection-bracket\">]</span></span></h3>\n",
    "<ul>\n",
    "<li>Alley Kat Brewing Company (<a href=\"/wiki/Edmonton\" title=\"Edmonton\">Edmonton</a>)</li>\n",
    "...\n",
    "</ul>\n",
    "```"
   ]
  },
  {
   "cell_type": "markdown",
   "metadata": {},
   "source": [
    "We can start thinking of the structure, and hence our parse logic, as follows:\n",
    "- Heading `<h3>` followed by a `<span>` with class `mw-headline` gives the province\n",
    "- For each province, look for the *list item* `<li>` tag which gives the individual brewery\n",
    "- Repeat for each province"
   ]
  },
  {
   "cell_type": "markdown",
   "metadata": {},
   "source": [
    "# 4. Parse the HTML\n",
    "Before we go all-in and try to parse the entire page, let's start with the first province in the wiki page and see if we can get the first brewery there. Coding gradually and testing often like this makes debugging easier and development faster.\n",
    "\n",
    "We'll first turn our `page` object into a Beautiful Soup object, then start looking for the headings denoting provinces:"
   ]
  },
  {
   "cell_type": "code",
   "execution_count": 14,
   "metadata": {
    "collapsed": false
   },
   "outputs": [],
   "source": [
    "soup = BeautifulSoup(page.content, 'lxml')\n",
    "\n",
    "provinces = soup.find_all('h3')\n",
    "\n"
   ]
  },
  {
   "cell_type": "code",
   "execution_count": 15,
   "metadata": {
    "collapsed": false
   },
   "outputs": [
    {
     "data": {
      "text/plain": [
       "[<h3><span class=\"mw-headline\" id=\"Alberta\">Alberta</span><span class=\"mw-editsection\"><span class=\"mw-editsection-bracket\">[</span><a href=\"/w/index.php?title=List_of_breweries_in_Canada&amp;action=edit&amp;section=2\" title=\"Edit section: Alberta\">edit</a><span class=\"mw-editsection-bracket\">]</span></span></h3>,\n",
       " <h3><span class=\"mw-headline\" id=\"British_Columbia\">British Columbia</span><span class=\"mw-editsection\"><span class=\"mw-editsection-bracket\">[</span><a href=\"/w/index.php?title=List_of_breweries_in_Canada&amp;action=edit&amp;section=3\" title=\"Edit section: British Columbia\">edit</a><span class=\"mw-editsection-bracket\">]</span></span></h3>,\n",
       " <h3><span class=\"mw-headline\" id=\"Manitoba\">Manitoba</span><span class=\"mw-editsection\"><span class=\"mw-editsection-bracket\">[</span><a href=\"/w/index.php?title=List_of_breweries_in_Canada&amp;action=edit&amp;section=4\" title=\"Edit section: Manitoba\">edit</a><span class=\"mw-editsection-bracket\">]</span></span></h3>,\n",
       " <h3><span class=\"mw-headline\" id=\"Newfoundland_.26_Labrador\">Newfoundland &amp; Labrador</span><span class=\"mw-editsection\"><span class=\"mw-editsection-bracket\">[</span><a href=\"/w/index.php?title=List_of_breweries_in_Canada&amp;action=edit&amp;section=5\" title=\"Edit section: Newfoundland &amp; Labrador\">edit</a><span class=\"mw-editsection-bracket\">]</span></span></h3>,\n",
       " <h3><span class=\"mw-headline\" id=\"Northwest_Territories\">Northwest Territories</span><span class=\"mw-editsection\"><span class=\"mw-editsection-bracket\">[</span><a href=\"/w/index.php?title=List_of_breweries_in_Canada&amp;action=edit&amp;section=6\" title=\"Edit section: Northwest Territories\">edit</a><span class=\"mw-editsection-bracket\">]</span></span></h3>,\n",
       " <h3><span class=\"mw-headline\" id=\"Nova_Scotia\">Nova Scotia</span><span class=\"mw-editsection\"><span class=\"mw-editsection-bracket\">[</span><a href=\"/w/index.php?title=List_of_breweries_in_Canada&amp;action=edit&amp;section=7\" title=\"Edit section: Nova Scotia\">edit</a><span class=\"mw-editsection-bracket\">]</span></span></h3>,\n",
       " <h3><span class=\"mw-headline\" id=\"New_Brunswick\">New Brunswick</span><span class=\"mw-editsection\"><span class=\"mw-editsection-bracket\">[</span><a href=\"/w/index.php?title=List_of_breweries_in_Canada&amp;action=edit&amp;section=8\" title=\"Edit section: New Brunswick\">edit</a><span class=\"mw-editsection-bracket\">]</span></span></h3>,\n",
       " <h3><span class=\"mw-headline\" id=\"Ontario\">Ontario</span><span class=\"mw-editsection\"><span class=\"mw-editsection-bracket\">[</span><a href=\"/w/index.php?title=List_of_breweries_in_Canada&amp;action=edit&amp;section=9\" title=\"Edit section: Ontario\">edit</a><span class=\"mw-editsection-bracket\">]</span></span></h3>,\n",
       " <h3><span class=\"mw-headline\" id=\"Prince_Edward_Island\">Prince Edward Island</span><span class=\"mw-editsection\"><span class=\"mw-editsection-bracket\">[</span><a href=\"/w/index.php?title=List_of_breweries_in_Canada&amp;action=edit&amp;section=10\" title=\"Edit section: Prince Edward Island\">edit</a><span class=\"mw-editsection-bracket\">]</span></span></h3>,\n",
       " <h3><span class=\"mw-headline\" id=\"Saskatchewan\">Saskatchewan</span><span class=\"mw-editsection\"><span class=\"mw-editsection-bracket\">[</span><a href=\"/w/index.php?title=List_of_breweries_in_Canada&amp;action=edit&amp;section=11\" title=\"Edit section: Saskatchewan\">edit</a><span class=\"mw-editsection-bracket\">]</span></span></h3>,\n",
       " <h3><span class=\"mw-headline\" id=\"Quebec\">Quebec</span><span class=\"mw-editsection\"><span class=\"mw-editsection-bracket\">[</span><a href=\"/w/index.php?title=List_of_breweries_in_Canada&amp;action=edit&amp;section=12\" title=\"Edit section: Quebec\">edit</a><span class=\"mw-editsection-bracket\">]</span></span></h3>,\n",
       " <h3><span class=\"mw-headline\" id=\"Yukon\">Yukon</span><span class=\"mw-editsection\"><span class=\"mw-editsection-bracket\">[</span><a href=\"/w/index.php?title=List_of_breweries_in_Canada&amp;action=edit&amp;section=13\" title=\"Edit section: Yukon\">edit</a><span class=\"mw-editsection-bracket\">]</span></span></h3>,\n",
       " <h3 id=\"p-personal-label\">Personal tools</h3>,\n",
       " <h3 id=\"p-namespaces-label\">Namespaces</h3>,\n",
       " <h3 id=\"p-variants-label\">\n",
       " <span>Variants</span><a href=\"#\"></a>\n",
       " </h3>,\n",
       " <h3 id=\"p-views-label\">Views</h3>,\n",
       " <h3 id=\"p-cactions-label\"><span>More</span><a href=\"#\"></a></h3>,\n",
       " <h3>\n",
       " <label for=\"searchInput\">Search</label>\n",
       " </h3>,\n",
       " <h3 id=\"p-navigation-label\">Navigation</h3>,\n",
       " <h3 id=\"p-interaction-label\">Interaction</h3>,\n",
       " <h3 id=\"p-tb-label\">Tools</h3>,\n",
       " <h3 id=\"p-coll-print_export-label\">Print/export</h3>,\n",
       " <h3 id=\"p-lang-label\">Languages</h3>]"
      ]
     },
     "execution_count": 15,
     "metadata": {},
     "output_type": "execute_result"
    }
   ],
   "source": [
    "provinces"
   ]
  }
 ],
 "metadata": {
  "kernelspec": {
   "display_name": "Python 3",
   "language": "python",
   "name": "python3"
  },
  "language_info": {
   "codemirror_mode": {
    "name": "ipython",
    "version": 3
   },
   "file_extension": ".py",
   "mimetype": "text/x-python",
   "name": "python",
   "nbconvert_exporter": "python",
   "pygments_lexer": "ipython3",
   "version": "3.6.0"
  }
 },
 "nbformat": 4,
 "nbformat_minor": 2
}
