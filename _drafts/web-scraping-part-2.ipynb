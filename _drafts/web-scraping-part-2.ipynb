{
 "cells": [
  {
   "cell_type": "markdown",
   "metadata": {},
   "source": [
    "# Introduction\n",
    "Hello!  In this tutorial we will scrape a more complicated webage from Wikipedia.  This is a continuation of [Part 1](https://onefortheroad.github.io/python/tutorial/2017/04/29/web-scraping-part-1/) where we learned the basics of web scraping.\n",
    "\n",
    "When we left off Part 1, we had a *pandas* dataframe containing the Top 100 Canadian Beers. I'd like to add some **geospatial** information to our beer list so I can plan a pilgrimage to these fantastic breweries.  (Actually, we'll use this geospatial information in a future tutorial on visualization.)  Wikipedia's [List of Breweries in Canada](https://en.wikipedia.org/wiki/List_of_breweries_in_Canada) is a fine place to start.  Let's go!"
   ]
  },
  {
   "cell_type": "markdown",
   "metadata": {},
   "source": [
    "## Contents\n"
   ]
  },
  {
   "cell_type": "markdown",
   "metadata": {},
   "source": [
    "# 1. Import Libraries"
   ]
  },
  {
   "cell_type": "code",
   "execution_count": 3,
   "metadata": {
    "collapsed": true
   },
   "outputs": [],
   "source": [
    "import re\n",
    "import requests\n",
    "from bs4 import BeautifulSoup\n",
    "import pandas as pd"
   ]
  },
  {
   "cell_type": "markdown",
   "metadata": {},
   "source": [
    "# 2. Download the web page"
   ]
  },
  {
   "cell_type": "code",
   "execution_count": 4,
   "metadata": {
    "collapsed": true
   },
   "outputs": [],
   "source": [
    "url = 'https://en.wikipedia.org/wiki/List_of_breweries_in_Canada'\n",
    "page = requests.get(url)"
   ]
  },
  {
   "cell_type": "markdown",
   "metadata": {},
   "source": [
    "# 3. Examine the HTML\n",
    "Looking at the [wiki](https://en.wikipedia.org/wiki/List_of_breweries_in_Canada), the breweries are listed by province.  The HTML for the breweries in Alberta looks like this:"
   ]
  },
  {
   "cell_type": "markdown",
   "metadata": {},
   "source": [
    "```html\n",
    "<h3><span class=\"mw-headline\" id=\"Alberta\">Alberta</span><span class=\"mw-editsection\"><span class=\"mw-editsection-bracket\">[</span><a href=\"/w/index.php?title=List_of_breweries_in_Canada&amp;action=edit&amp;section=2\" title=\"Edit section: Alberta\">edit</a><span class=\"mw-editsection-bracket\">]</span></span></h3>\n",
    "<ul>\n",
    "<li>Alley Kat Brewing Company (<a href=\"/wiki/Edmonton\" title=\"Edmonton\">Edmonton</a>)</li>\n",
    "...\n",
    "</ul>\n",
    "```"
   ]
  },
  {
   "cell_type": "markdown",
   "metadata": {},
   "source": [
    "We can start thinking of the structure, and hence our parse logic, as follows:\n",
    "- Heading `<h3>` followed by a `<span>` with class `mw-headline` gives the province\n",
    "- Each province is followed by an unordered list `<ul>` of breweries\n",
    "- Each list item `<li>` represents an individual brewery\n",
    "- Repeat for each province"
   ]
  },
  {
   "cell_type": "markdown",
   "metadata": {},
   "source": [
    "# 4. Parse the HTML\n",
    "We'll first turn our `page` object into a Beautiful Soup object, then start looking for the headings denoting provinces:"
   ]
  },
  {
   "cell_type": "code",
   "execution_count": 115,
   "metadata": {
    "collapsed": false
   },
   "outputs": [
    {
     "name": "stdout",
     "output_type": "stream",
     "text": [
      "1 Alberta\n",
      "2 British Columbia\n",
      "3 Manitoba\n",
      "4 Newfoundland & Labrador\n",
      "5 Northwest Territories\n",
      "6 Nova Scotia\n",
      "7 New Brunswick\n",
      "8 Ontario\n",
      "9 Prince Edward Island\n",
      "10 Saskatchewan\n",
      "11 Quebec\n",
      "12 Yukon\n"
     ]
    }
   ],
   "source": [
    "soup = BeautifulSoup(page.content, 'lxml')\n",
    "\n",
    "provinces = soup.find_all(lambda tag: tag.name == 'h3' and tag.find(class_='mw-headline'))\n",
    "# Print the list of provinces\n",
    "for i, province in enumerate(provinces, start=1):\n",
    "    print(i, province.contents[0].string)"
   ]
  },
  {
   "cell_type": "markdown",
   "metadata": {},
   "source": [
    "Nice! We use a lambda function in `find_all()` because we want to find only tags with particular children, and Beautiful Soup doesn't have any methods to do this directly.  Our lambda function does this quite elegantly in a single line.\n",
    "\n",
    ">Why didn't we just search for all `<h3>` tags, or `mw_headline` classes?  These searches would have turned up other results along with the ones we want, leading to additional steps to strip out the ones we want.  Try it out as an exercise!\n",
    "{:.blockquote}\n",
    "\n",
    "Next, using the first province in the list (Alberta), let's get the list of breweries which are in the `<li>` tags:"
   ]
  },
  {
   "cell_type": "code",
   "execution_count": 116,
   "metadata": {
    "collapsed": false
   },
   "outputs": [
    {
     "name": "stdout",
     "output_type": "stream",
     "text": [
      "1 Alley Kat Brewing Company (Edmonton)\n",
      "2 Amber's Brewing Company (Edmonton)\n",
      "3 Banded Peak Brewing Company (Calgary)\n",
      "4 Banff Ave. Brewing Co. (Banff)\n",
      "5 Bent Stick Brewing Co. (Edmonton)\n"
     ]
    }
   ],
   "source": [
    "brewers_by_province = provinces[0].find_next_sibling('ul').find_all('li')\n",
    "# Truncate the printed list to first 5 brewers\n",
    "for i, brewery in enumerate(brewers_by_province[:5], start=1):\n",
    "    print(i, brewery.text)"
   ]
  },
  {
   "cell_type": "markdown",
   "metadata": {},
   "source": [
    "Let's explain this line.  Working with the first province `provinces[0]`, we went sideways in the tree using `find_next_sibling()` to the unordered list `<ul>`.  Inside the `<ul>` we then gathered all the `<li>` tags using `find_all()`.\n",
    "\n",
    "## Extract Data\n",
    "We can now use *regex* to extract the brewery name and city into separate variables. Let's use the first brewer in our list:"
   ]
  },
  {
   "cell_type": "code",
   "execution_count": 118,
   "metadata": {
    "collapsed": false
   },
   "outputs": [
    {
     "data": {
      "text/plain": [
       "'Alley Kat Brewing Company (Edmonton)'"
      ]
     },
     "execution_count": 118,
     "metadata": {},
     "output_type": "execute_result"
    }
   ],
   "source": [
    "brewers_by_province[0].text"
   ]
  },
  {
   "cell_type": "code",
   "execution_count": 185,
   "metadata": {
    "collapsed": false
   },
   "outputs": [
    {
     "name": "stdout",
     "output_type": "stream",
     "text": [
      "<_sre.SRE_Match object; span=(0, 10), match='Hello Sam '>\n",
      "['(Sharks)', '(2017)']\n"
     ]
    }
   ],
   "source": [
    "# goal is to extract the first part and the last bracketed part\n",
    "test = 'Hello Sam (Sharks) (2017)'\n",
    "brackets = '\\([^)]+\\)'\n",
    "name = '^[^(]+'\n",
    "print(re.search(name, test))\n",
    "print(re.findall(brackets, test))\n"
   ]
  }
 ],
 "metadata": {
  "kernelspec": {
   "display_name": "Python 3",
   "language": "python",
   "name": "python3"
  },
  "language_info": {
   "codemirror_mode": {
    "name": "ipython",
    "version": 3
   },
   "file_extension": ".py",
   "mimetype": "text/x-python",
   "name": "python",
   "nbconvert_exporter": "python",
   "pygments_lexer": "ipython3",
   "version": "3.6.0"
  }
 },
 "nbformat": 4,
 "nbformat_minor": 2
}
