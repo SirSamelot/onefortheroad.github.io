{
 "cells": [
  {
   "cell_type": "markdown",
   "metadata": {},
   "source": [
    "# Pickle Multiple Objects"
   ]
  },
  {
   "cell_type": "code",
   "execution_count": null,
   "metadata": {
    "collapsed": true
   },
   "outputs": [],
   "source": [
    "import pickle\n",
    "\n",
    "# pickle multiple objects\n",
    "with open('./data/instacart/dfs.pickle', 'wb') as f:\n",
    "    pickle.dump([line33, morning, afternoon], f)\n",
    "\n",
    "\n",
    "# Retrieve the pickled objects:\n",
    "with open('./data/instacart/dfs.pickle', 'rb') as f:\n",
    "    line33, morning, afternoon = pickle.load(f)"
   ]
  }
 ],
 "metadata": {
  "kernelspec": {
   "display_name": "Python 3",
   "language": "python",
   "name": "python3"
  },
  "language_info": {
   "codemirror_mode": {
    "name": "ipython",
    "version": 3
   },
   "file_extension": ".py",
   "mimetype": "text/x-python",
   "name": "python",
   "nbconvert_exporter": "python",
   "pygments_lexer": "ipython3",
   "version": "3.6.0"
  }
 },
 "nbformat": 4,
 "nbformat_minor": 2
}
