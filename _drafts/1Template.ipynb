{
 "cells": [
  {
   "cell_type": "markdown",
   "metadata": {},
   "source": [
    "# Introduction\n",
    "\n",
    "## Contents\n",
    "1. [Requirements](#1-requirements)\n",
    "\n",
    "# 1. Heading\n",
    "\n",
    "> blockquote\n",
    "{:.blockquote}\n",
    "\n",
    "** Link to Post: **\n",
    "[Merging Data]({% post_url 2017-05-16-merging-data %})\n",
    "\n",
    "> Have a question about this topic, or a suggestion for a future topic?  Please, leave a comment below!\n",
    "{:.blockquote}\n",
    "\n",
    "### Resources\n",
    "- Python's **difflib** [documentation](https://docs.python.org/3.6/library/difflib.html)\n",
    "- *pandas* [Cookbook](http://pandas.pydata.org/pandas-docs/stable/cookbook.html), useful recipes"
   ]
  }
 ],
 "metadata": {
  "kernelspec": {
   "display_name": "Python 3",
   "language": "python",
   "name": "python3"
  },
  "language_info": {
   "codemirror_mode": {
    "name": "ipython",
    "version": 3
   },
   "file_extension": ".py",
   "mimetype": "text/x-python",
   "name": "python",
   "nbconvert_exporter": "python",
   "pygments_lexer": "ipython3",
   "version": "3.6.0"
  }
 },
 "nbformat": 4,
 "nbformat_minor": 2
}
