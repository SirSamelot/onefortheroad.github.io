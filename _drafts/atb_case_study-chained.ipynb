{
 "cells": [
  {
   "cell_type": "code",
   "execution_count": 1,
   "metadata": {
    "collapsed": true
   },
   "outputs": [],
   "source": [
    "import datetime as dt\n",
    "import pandas as pd"
   ]
  },
  {
   "cell_type": "code",
   "execution_count": 2,
   "metadata": {
    "collapsed": true
   },
   "outputs": [],
   "source": [
    "# User configurable options\n",
    "reporting_period_in_days = 7\n",
    "leads_null_value = 'NO LEADS'\n",
    "outcome_null_value = 'NO LEADS'"
   ]
  },
  {
   "cell_type": "code",
   "execution_count": 3,
   "metadata": {
    "collapsed": false
   },
   "outputs": [],
   "source": [
    "# Read data\n",
    "df_app_users = pd.read_csv('./data/ATB/app_users.csv')\n",
    "df_leads_by_users = pd.read_csv('./data/ATB/leads_by_user.csv', parse_dates=[0])"
   ]
  },
  {
   "cell_type": "code",
   "execution_count": 4,
   "metadata": {
    "collapsed": false
   },
   "outputs": [],
   "source": [
    "# Transform data\n",
    "df_outcomes_by_user = (df_leads_by_users[(df_leads_by_users['TIMESTAMP'] > (dt.datetime.today() - dt.timedelta(days=reporting_period_in_days)))]\n",
    "    .groupby(['USER_OID', 'LEAD', 'OUTCOME'])\n",
    "    .size()\n",
    "    .reset_index()\n",
    "    .rename(columns={0: 'NUMBER_OUTCOME'})\n",
    "    .merge(df_app_users.loc[df_app_users['STATUS'] == 'A'], on=['USER_OID'], how='right')\n",
    "    .drop(['USER_OID', 'STATUS'], axis=1)\n",
    "    .fillna({'LEAD': leads_null_value, 'OUTCOME': outcome_null_value, 'NUMBER_OUTCOME': 0})\n",
    "    .sort_values(['NAME', 'LEAD', 'OUTCOME'])\n",
    "    .reindex(columns=['NAME', 'LEAD', 'OUTCOME', 'NUMBER_OUTCOME'])      \n",
    ")"
   ]
  },
  {
   "cell_type": "code",
   "execution_count": 5,
   "metadata": {
    "collapsed": false
   },
   "outputs": [
    {
     "data": {
      "text/html": [
       "<div>\n",
       "<table border=\"1\" class=\"dataframe\">\n",
       "  <thead>\n",
       "    <tr style=\"text-align: right;\">\n",
       "      <th></th>\n",
       "      <th>NAME</th>\n",
       "      <th>LEAD</th>\n",
       "      <th>OUTCOME</th>\n",
       "      <th>NUMBER_OUTCOME</th>\n",
       "    </tr>\n",
       "  </thead>\n",
       "  <tbody>\n",
       "    <tr>\n",
       "      <th>15</th>\n",
       "      <td>Abacus, Lazy</td>\n",
       "      <td>NO LEADS</td>\n",
       "      <td>NO LEADS</td>\n",
       "      <td>0.0</td>\n",
       "    </tr>\n",
       "    <tr>\n",
       "      <th>10</th>\n",
       "      <td>Abacus, Professor</td>\n",
       "      <td>CHEQUING</td>\n",
       "      <td>LOST</td>\n",
       "      <td>3.0</td>\n",
       "    </tr>\n",
       "    <tr>\n",
       "      <th>11</th>\n",
       "      <td>Abacus, Professor</td>\n",
       "      <td>CHEQUING</td>\n",
       "      <td>WON</td>\n",
       "      <td>1.0</td>\n",
       "    </tr>\n",
       "    <tr>\n",
       "      <th>12</th>\n",
       "      <td>Abacus, Professor</td>\n",
       "      <td>MASTERCARD</td>\n",
       "      <td>LOST</td>\n",
       "      <td>1.0</td>\n",
       "    </tr>\n",
       "    <tr>\n",
       "      <th>13</th>\n",
       "      <td>Abacus, Professor</td>\n",
       "      <td>MASTERCARD</td>\n",
       "      <td>WON</td>\n",
       "      <td>1.0</td>\n",
       "    </tr>\n",
       "    <tr>\n",
       "      <th>14</th>\n",
       "      <td>Abacus, Professor</td>\n",
       "      <td>SAVINGS</td>\n",
       "      <td>LOST</td>\n",
       "      <td>4.0</td>\n",
       "    </tr>\n",
       "    <tr>\n",
       "      <th>6</th>\n",
       "      <td>Pikachu</td>\n",
       "      <td>CHEQUING</td>\n",
       "      <td>WON</td>\n",
       "      <td>3.0</td>\n",
       "    </tr>\n",
       "    <tr>\n",
       "      <th>7</th>\n",
       "      <td>Pikachu</td>\n",
       "      <td>MASTERCARD</td>\n",
       "      <td>LOST</td>\n",
       "      <td>3.0</td>\n",
       "    </tr>\n",
       "    <tr>\n",
       "      <th>8</th>\n",
       "      <td>Pikachu</td>\n",
       "      <td>MASTERCARD</td>\n",
       "      <td>WON</td>\n",
       "      <td>1.0</td>\n",
       "    </tr>\n",
       "    <tr>\n",
       "      <th>9</th>\n",
       "      <td>Pikachu</td>\n",
       "      <td>SAVINGS</td>\n",
       "      <td>LOST</td>\n",
       "      <td>1.0</td>\n",
       "    </tr>\n",
       "    <tr>\n",
       "      <th>0</th>\n",
       "      <td>Sharky</td>\n",
       "      <td>CHEQUING</td>\n",
       "      <td>LOST</td>\n",
       "      <td>6.0</td>\n",
       "    </tr>\n",
       "    <tr>\n",
       "      <th>1</th>\n",
       "      <td>Sharky</td>\n",
       "      <td>CHEQUING</td>\n",
       "      <td>WON</td>\n",
       "      <td>2.0</td>\n",
       "    </tr>\n",
       "    <tr>\n",
       "      <th>2</th>\n",
       "      <td>Sharky</td>\n",
       "      <td>MASTERCARD</td>\n",
       "      <td>LOST</td>\n",
       "      <td>1.0</td>\n",
       "    </tr>\n",
       "    <tr>\n",
       "      <th>3</th>\n",
       "      <td>Sharky</td>\n",
       "      <td>MASTERCARD</td>\n",
       "      <td>WON</td>\n",
       "      <td>4.0</td>\n",
       "    </tr>\n",
       "    <tr>\n",
       "      <th>4</th>\n",
       "      <td>Sharky</td>\n",
       "      <td>SAVINGS</td>\n",
       "      <td>LOST</td>\n",
       "      <td>1.0</td>\n",
       "    </tr>\n",
       "    <tr>\n",
       "      <th>5</th>\n",
       "      <td>Sharky</td>\n",
       "      <td>SAVINGS</td>\n",
       "      <td>WON</td>\n",
       "      <td>1.0</td>\n",
       "    </tr>\n",
       "    <tr>\n",
       "      <th>16</th>\n",
       "      <td>Snorlax</td>\n",
       "      <td>NO LEADS</td>\n",
       "      <td>NO LEADS</td>\n",
       "      <td>0.0</td>\n",
       "    </tr>\n",
       "  </tbody>\n",
       "</table>\n",
       "</div>"
      ],
      "text/plain": [
       "                 NAME        LEAD   OUTCOME  NUMBER_OUTCOME\n",
       "15       Abacus, Lazy    NO LEADS  NO LEADS             0.0\n",
       "10  Abacus, Professor    CHEQUING      LOST             3.0\n",
       "11  Abacus, Professor    CHEQUING       WON             1.0\n",
       "12  Abacus, Professor  MASTERCARD      LOST             1.0\n",
       "13  Abacus, Professor  MASTERCARD       WON             1.0\n",
       "14  Abacus, Professor     SAVINGS      LOST             4.0\n",
       "6             Pikachu    CHEQUING       WON             3.0\n",
       "7             Pikachu  MASTERCARD      LOST             3.0\n",
       "8             Pikachu  MASTERCARD       WON             1.0\n",
       "9             Pikachu     SAVINGS      LOST             1.0\n",
       "0              Sharky    CHEQUING      LOST             6.0\n",
       "1              Sharky    CHEQUING       WON             2.0\n",
       "2              Sharky  MASTERCARD      LOST             1.0\n",
       "3              Sharky  MASTERCARD       WON             4.0\n",
       "4              Sharky     SAVINGS      LOST             1.0\n",
       "5              Sharky     SAVINGS       WON             1.0\n",
       "16            Snorlax    NO LEADS  NO LEADS             0.0"
      ]
     },
     "execution_count": 5,
     "metadata": {},
     "output_type": "execute_result"
    }
   ],
   "source": [
    "# Display output\n",
    "df_outcomes_by_user"
   ]
  }
 ],
 "metadata": {
  "kernelspec": {
   "display_name": "Python 3",
   "language": "python",
   "name": "python3"
  },
  "language_info": {
   "codemirror_mode": {
    "name": "ipython",
    "version": 3
   },
   "file_extension": ".py",
   "mimetype": "text/x-python",
   "name": "python",
   "nbconvert_exporter": "python",
   "pygments_lexer": "ipython3",
   "version": "3.6.0"
  }
 },
 "nbformat": 4,
 "nbformat_minor": 2
}
