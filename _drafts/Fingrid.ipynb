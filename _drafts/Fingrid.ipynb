{
 "cells": [
  {
   "cell_type": "markdown",
   "metadata": {},
   "source": [
    "# Electricity production - real time data\n",
    "\n",
    "Electricity production in Finland based on the real-time measurements in Fingrid's operation control system The data is updated every 3 minutes.\n",
    "\n",
    "    Field\tValue\n",
    "    Last updated\tJanuary 30, 2017\n",
    "    Created\tJanuary 30, 2017\n",
    "    Format\tJSON\n",
    "    Name\tAPI access\n",
    "    Variable Id\t192\n",
    "    \n",
    "### June 12, 2017:\n",
    "Below is working sample code to show how to use Fingrid's API to get the last event for a given variable (e.g. 192: Electricity Productino)"
   ]
  },
  {
   "cell_type": "code",
   "execution_count": 1,
   "metadata": {
    "collapsed": true
   },
   "outputs": [],
   "source": [
    "# API key\n",
    "key = 'hzSh5y5OvA26SmOFsmMdw1AavSem1QB84K3PUcMo'"
   ]
  },
  {
   "cell_type": "code",
   "execution_count": 2,
   "metadata": {
    "collapsed": true
   },
   "outputs": [],
   "source": [
    "url = 'https://api.fingrid.fi/v1/variable/192/event/json'\n",
    "\n",
    "headers = {\n",
    "    'x-api-key': key,\n",
    "}"
   ]
  },
  {
   "cell_type": "code",
   "execution_count": 7,
   "metadata": {
    "collapsed": false
   },
   "outputs": [],
   "source": [
    "import requests\n",
    "r = requests.get(url, headers=headers)"
   ]
  },
  {
   "cell_type": "code",
   "execution_count": 9,
   "metadata": {
    "collapsed": false
   },
   "outputs": [
    {
     "data": {
      "text/plain": [
       "200"
      ]
     },
     "execution_count": 9,
     "metadata": {},
     "output_type": "execute_result"
    }
   ],
   "source": [
    "r.status_code"
   ]
  },
  {
   "cell_type": "code",
   "execution_count": 8,
   "metadata": {
    "collapsed": false
   },
   "outputs": [
    {
     "data": {
      "text/plain": [
       "{'end_time': '2017-06-12T17:10:00+0000',\n",
       " 'start_time': '2017-06-12T17:10:00+0000',\n",
       " 'value': 6061}"
      ]
     },
     "execution_count": 8,
     "metadata": {},
     "output_type": "execute_result"
    }
   ],
   "source": [
    "r.json()"
   ]
  }
 ],
 "metadata": {
  "kernelspec": {
   "display_name": "Python 3",
   "language": "python",
   "name": "python3"
  },
  "language_info": {
   "codemirror_mode": {
    "name": "ipython",
    "version": 3
   },
   "file_extension": ".py",
   "mimetype": "text/x-python",
   "name": "python",
   "nbconvert_exporter": "python",
   "pygments_lexer": "ipython3",
   "version": "3.6.0"
  }
 },
 "nbformat": 4,
 "nbformat_minor": 2
}
