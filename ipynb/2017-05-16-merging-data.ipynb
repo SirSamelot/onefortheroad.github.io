{
 "cells": [
  {
   "cell_type": "markdown",
   "metadata": {},
   "source": [
    "# Introduction\n",
    "Hello! In this tutorial we will show how to **combine data** from two different sources.  In the real world, you will almost always have to work with data from multiple sources, so it's necessary to know how to combine data into a single source for ease of analysis.\n",
    "\n",
    "The data we'll be using comes from our tutorials on **web scraping** ([here]({% post_url 2017-04-29-web-scraping-part-1 %}) and [here]({% post_url 2017-05-10-web-scraping-part-2 %})).  The first dataset is a list of the Top 100 Beers from Canada.  The second dataset is a list of all the breweries in Canada.  We'll find and fix some common problems when joining data.  In the next tutorial, we'll take the combined data and do some fun visualizations.  Ready?\n",
    "\n",
    "## Contents\n",
    "1. [Read Data](#1-read-data)\n",
    "2. [Join Data](#2-join-data)\n",
    "3. [Fixing Join Problems](#3-fixing-join-problems)\n",
    "4. [Matching Text Strings](#4-matching-text-strings)\n",
    "5. [Fixing NaN Values](#5-fixing-nan-values)\n",
    "6. [Cleanup](#6-cleanup)\n",
    "7. [Conclusion](#conclusion)"
   ]
  },
  {
   "cell_type": "markdown",
   "metadata": {},
   "source": [
    "# 1. Read Data\n",
    "Let's get the datasets from the CSV files we saved before.  We'll take a peek at them to refresh ourselves on their contents."
   ]
  },
  {
   "cell_type": "code",
   "execution_count": 16,
   "metadata": {
    "collapsed": false
   },
   "outputs": [
    {
     "name": "stdout",
     "output_type": "stream",
     "text": [
      "   rank                                      name                  brewery                             style   abv  score  ratings\n",
      "0     1                              Péché Mortel  Brasserie Dieu du Ciel!  American Double / Imperial Stout   9.5   4.39     5087\n",
      "1     2  Péché Mortel En Fût De Bourbon Américain  Brasserie Dieu du Ciel!  American Double / Imperial Stout   9.5   4.45      488\n",
      "2     3                           La Fin Du Monde                 Unibroue                            Tripel   9.0   4.31    10021\n",
      "3     4                Unibroue 17 Grande Réserve                 Unibroue           Belgian Strong Dark Ale  10.0   4.24     1140\n",
      "4     5                               Fat Tug IPA        Driftwood Brewery                      American IPA   7.0   4.25      601\n",
      "\n",
      "                            name            city          province\n",
      "0          \"A\" Frame Brewing Co.        Squamish  British Columbia\n",
      "1              20 Valley Brewery  St. Catherines           Ontario\n",
      "2           33 Acres Brewing Co.       Vancouver  British Columbia\n",
      "3          5 Paddles Brewing Co.          Whitby           Ontario\n",
      "4  9 Mile Legacy Brewing Company       Saskatoon      Saskatchewan\n"
     ]
    }
   ],
   "source": [
    "import pandas as pd\n",
    "\n",
    "pd.set_option('display.width', 1000)  # Display wide dataframes as one\n",
    "\n",
    "top_100_filename = './data/top_100_canadian_beers.csv'\n",
    "breweries_filename = './data/breweries_in_canada_clean.csv'\n",
    "\n",
    "df1 = pd.read_csv(top_100_filename, encoding='ISO-8859-1')\n",
    "df2 = pd.read_csv(breweries_filename)\n",
    "\n",
    "print(df1.head(), df2.head(), sep='\\n\\n')"
   ]
  },
  {
   "cell_type": "markdown",
   "metadata": {},
   "source": [
    "# 2. Join Data\n",
    "Now that our datasets are in dataframes, we can join them with `pd.merge()`.  What I'd like to do is add the city and province variables from `df2` to the corresponding brewery in `df1`.  So our end result should be a dataframe of the Top 100 Beers of Canada, with each beer having its original data plus its city and province of origin."
   ]
  },
  {
   "cell_type": "code",
   "execution_count": 17,
   "metadata": {
    "collapsed": false
   },
   "outputs": [
    {
     "name": "stdout",
     "output_type": "stream",
     "text": [
      "df is length 109\n",
      "   rank                                 name_beer                  brewery                             style   abv  score  ratings name_brewery     city province\n",
      "0     1                              Péché Mortel  Brasserie Dieu du Ciel!  American Double / Imperial Stout   9.5   4.39     5087          NaN      NaN      NaN\n",
      "1     2  Péché Mortel En Fût De Bourbon Américain  Brasserie Dieu du Ciel!  American Double / Imperial Stout   9.5   4.45      488          NaN      NaN      NaN\n",
      "2     3                           La Fin Du Monde                 Unibroue                            Tripel   9.0   4.31    10021     Unibroue  Sapporo   Quebec\n",
      "3     3                           La Fin Du Monde                 Unibroue                            Tripel   9.0   4.31    10021     Unibroue  Chambly   Quebec\n",
      "4     4                Unibroue 17 Grande Réserve                 Unibroue           Belgian Strong Dark Ale  10.0   4.24     1140     Unibroue  Sapporo   Quebec\n"
     ]
    }
   ],
   "source": [
    "df = pd.merge(df1, df2, how='left', left_on='brewery', right_on='name', suffixes=('_beer', '_brewery'), sort=False)\n",
    "print(\"df is length {}\".format(len(df)))\n",
    "print(df.head())"
   ]
  },
  {
   "cell_type": "markdown",
   "metadata": {},
   "source": [
    "This doesn't look quite right!\n",
    "- Why is our merged dataframe length 109?  We were expecting length 100\n",
    "- What's with the NaN values?\n",
    "- Why is *La Fin Du Monde* repeated?\n",
    "\n",
    "Without even looking at the rest of the dataframe, we can tell something is wrong.  But if we stop and think about the datasets we just merged, then it becomes apparent what the problems are.\n",
    "\n",
    "# 3. Fixing Join Problems\n",
    "\n",
    "### Problem 1: Duplicate values\n",
    "Remember how we created our dataset of breweries in Canada (`df2`)?  We scraped a Wikipedia page and noticed that some breweries had multiple cities listed as their location.  This could explain why a beer like *La Find Du Monde* was repeated, as the only difference between the two rows in our merged dataframe is the city.  Let's check:"
   ]
  },
  {
   "cell_type": "code",
   "execution_count": 18,
   "metadata": {
    "collapsed": false
   },
   "outputs": [
    {
     "name": "stdout",
     "output_type": "stream",
     "text": [
      "         name     city province\n",
      "477  Unibroue  Sapporo   Quebec\n",
      "478  Unibroue  Chambly   Quebec\n"
     ]
    }
   ],
   "source": [
    "print(df2[df2.name=='Unibroue'])"
   ]
  },
  {
   "cell_type": "markdown",
   "metadata": {},
   "source": [
    "That does match up with the two rows corresponding to *La Fin Du Monde*.  Let's check if there are more of these duplicates, and if so, does the number of duplicates explain the extra 9 rows in the merged data set?"
   ]
  },
  {
   "cell_type": "code",
   "execution_count": 19,
   "metadata": {
    "collapsed": false
   },
   "outputs": [
    {
     "name": "stdout",
     "output_type": "stream",
     "text": [
      "Number of duplicate beers:  9\n",
      "    rank                   name_beer   brewery                    style   abv  score  ratings name_brewery     city province\n",
      "2      3             La Fin Du Monde  Unibroue                   Tripel   9.0   4.31    10021     Unibroue  Sapporo   Quebec\n",
      "3      3             La Fin Du Monde  Unibroue                   Tripel   9.0   4.31    10021     Unibroue  Chambly   Quebec\n",
      "4      4  Unibroue 17 Grande Réserve  Unibroue  Belgian Strong Dark Ale  10.0   4.24     1140     Unibroue  Sapporo   Quebec\n",
      "5      4  Unibroue 17 Grande Réserve  Unibroue  Belgian Strong Dark Ale  10.0   4.24     1140     Unibroue  Chambly   Quebec\n",
      "9      8              Trois Pistoles  Unibroue  Belgian Strong Dark Ale   9.0   4.20     4938     Unibroue  Sapporo   Quebec\n",
      "10     8              Trois Pistoles  Unibroue  Belgian Strong Dark Ale   9.0   4.20     4938     Unibroue  Chambly   Quebec\n",
      "15    13                     Maudite  Unibroue  Belgian Strong Dark Ale   8.0   4.17     4573     Unibroue  Sapporo   Quebec\n",
      "16    13                     Maudite  Unibroue  Belgian Strong Dark Ale   8.0   4.17     4573     Unibroue  Chambly   Quebec\n",
      "18    15                 La Terrible  Unibroue  Belgian Strong Dark Ale  10.5   4.16     2216     Unibroue  Sapporo   Quebec\n",
      "19    15                 La Terrible  Unibroue  Belgian Strong Dark Ale  10.5   4.16     2216     Unibroue  Chambly   Quebec\n",
      "24    20                 Don De Dieu  Unibroue  Belgian Strong Pale Ale   9.0   4.13     2868     Unibroue  Sapporo   Quebec\n",
      "25    20                 Don De Dieu  Unibroue  Belgian Strong Pale Ale   9.0   4.13     2868     Unibroue  Chambly   Quebec\n",
      "44    39               La Résolution  Unibroue  Belgian Strong Dark Ale  10.0   4.09      270     Unibroue  Sapporo   Quebec\n",
      "45    39               La Résolution  Unibroue  Belgian Strong Dark Ale  10.0   4.09      270     Unibroue  Chambly   Quebec\n",
      "70    64                  Eau Benite  Unibroue                   Tripel   7.7   3.99      470     Unibroue  Sapporo   Quebec\n",
      "71    64                  Eau Benite  Unibroue                   Tripel   7.7   3.99      470     Unibroue  Chambly   Quebec\n",
      "78    71                La Fringante  Unibroue                   Tripel  10.0   4.12       81     Unibroue  Sapporo   Quebec\n",
      "79    71                La Fringante  Unibroue                   Tripel  10.0   4.12       81     Unibroue  Chambly   Quebec\n"
     ]
    }
   ],
   "source": [
    "print('Number of duplicate beers: ', df[df.duplicated(['name_beer'])].name_beer.count())\n",
    "print(df[df.duplicated(['name_beer'], keep=False)])"
   ]
  },
  {
   "cell_type": "markdown",
   "metadata": {},
   "source": [
    "What do you know, there are 9 duplicated beers, and from the list of duplicated beers, and it sure looks like the two cities listed for Unibroue are to blame.  This is easy enough to fix by removing one of the cities, but which one?  I could run upstairs and take a look in my fridge (I almost always have some version of Éphémère stocked), but a quick trip to Unibroue's [website](https://www.unibroue.com/en) also tells us the same thing: Unibroue is based in **Chambly**, Quebec.  *(If you're wondering where the Sapporo came from, Unibroue is now under the ownership of the beverage giant Sapporo.  Thanks Wikipedia for listing Sapporo as a location.)*"
   ]
  },
  {
   "cell_type": "code",
   "execution_count": 20,
   "metadata": {
    "collapsed": false
   },
   "outputs": [
    {
     "name": "stdout",
     "output_type": "stream",
     "text": [
      "df is length 100\n",
      "Number of duplicate beers:  0\n",
      "   rank                                 name_beer                  brewery                             style   abv  score  ratings name_brewery     city province\n",
      "0     1                              Péché Mortel  Brasserie Dieu du Ciel!  American Double / Imperial Stout   9.5   4.39     5087          NaN      NaN      NaN\n",
      "1     2  Péché Mortel En Fût De Bourbon Américain  Brasserie Dieu du Ciel!  American Double / Imperial Stout   9.5   4.45      488          NaN      NaN      NaN\n",
      "2     3                           La Fin Du Monde                 Unibroue                            Tripel   9.0   4.31    10021     Unibroue  Chambly   Quebec\n",
      "3     4                Unibroue 17 Grande Réserve                 Unibroue           Belgian Strong Dark Ale  10.0   4.24     1140     Unibroue  Chambly   Quebec\n",
      "4     5                               Fat Tug IPA        Driftwood Brewery                      American IPA   7.0   4.25      601          NaN      NaN      NaN\n"
     ]
    }
   ],
   "source": [
    "df = df.drop_duplicates(['name_beer'], keep='last').reset_index(drop=True)\n",
    "print(\"df is length {}\".format(len(df)))\n",
    "print('Number of duplicate beers: ', df[df.duplicated(['name_beer'])].name_beer.count())\n",
    "print(df.head())"
   ]
  },
  {
   "cell_type": "markdown",
   "metadata": {},
   "source": [
    "That's better!  We have 100 rows without any duplicate beers, just like we expected.\n",
    "\n",
    "### Problem 2: NaN values\n",
    "\n",
    "Let's see how many observations have NaN in their `city` variable:"
   ]
  },
  {
   "cell_type": "code",
   "execution_count": 21,
   "metadata": {
    "collapsed": false
   },
   "outputs": [
    {
     "name": "stdout",
     "output_type": "stream",
     "text": [
      "46\n"
     ]
    }
   ],
   "source": [
    "print(df['city'].isnull().sum())"
   ]
  },
  {
   "cell_type": "markdown",
   "metadata": {},
   "source": [
    "Looks like nearly half of our beers don't have an associated city with them.  Why is this?  We know that all the breweries in the brewery dataset have city data, so why don't they show up in this merged dataframe?\n",
    "\n",
    "The key word in the last sentence was *merged*.  Something happened when we joined the two datasets to cause the data in the second dataset to get left behind. An understanding of what happened when we issued our `merge()` will shed some light.\n",
    "\n",
    "Recall how we called `merge()`:\n",
    "\n",
    "```python\n",
    "pd.merge(df1, df2, how='left', left_on='brewery', right_on='name', suffixes=('_beer', '_brewery'), sort=False)\n",
    "```\n",
    "\n",
    "We performed a *left join* using `brewery` from the left dataset `df1` and `name` from the right dataset `df2` as our common key.  In a *left join*, when a match can't be found between the left and right keys, then the variables from the right dataframe are filled with NaN!\n",
    "\n",
    "So our merged dataset is telling us that **46/100** of the breweries from our beer dataset don't exist in our list of Canadian brewers.  That is a suspiciously high percentage, so something else is going on here.  In fact, the culprit is a very common problem when working with text data.  Since merges using strict equality matching, even a single difference in capitalization or punctuation will cause the merge to fail.  So when working with text data (especially text data from Wikipedia!), be prepared for all sorts of merge failures.\n",
    "\n",
    "In our case, since we're dealing with names, it's going to be especially difficult to find matches.  But that's not going to stop us.\n",
    "\n",
    "# 4. Matching Text Strings\n",
    "Let's make an example of *Driftwood Brewery*, which had no strict match in the list of breweries.  Let's search our list of breweries for any breweries that have *driftwood* in their name.  We'll isolate the name variable and also convert to lowercase."
   ]
  },
  {
   "cell_type": "code",
   "execution_count": 22,
   "metadata": {
    "collapsed": false
   },
   "outputs": [
    {
     "data": {
      "text/plain": [
       "159    driftwood brewing co.\n",
       "Name: name, dtype: object"
      ]
     },
     "execution_count": 22,
     "metadata": {},
     "output_type": "execute_result"
    }
   ],
   "source": [
    "breweries = df2['name'].str.lower()\n",
    "breweries[breweries.str.contains('driftwood')]"
   ]
  },
  {
   "cell_type": "markdown",
   "metadata": {},
   "source": [
    "Look at that!  *Driftwood Brewery* in our beer list is actually *Driftwood Brewing Co.* in our list of breweries!  OK, I admit, I picked an easy one.  And there's no way we can do that manually for all 46 of our mislabeled breweries.  So we're going to use a python library, **difflib**, to help us with this task.\n",
    "\n",
    "### difflib\n",
    "We'll jump right into an example showing how to use the **difflib** library."
   ]
  },
  {
   "cell_type": "code",
   "execution_count": 23,
   "metadata": {
    "collapsed": false
   },
   "outputs": [
    {
     "name": "stdout",
     "output_type": "stream",
     "text": [
      "0.957\n",
      "0.667\n",
      "0.615\n",
      "0.585\n",
      "['Brasserie Dieu du ciel!', 'Dieu du ciel!', 'Brasserie Dunham']\n"
     ]
    }
   ],
   "source": [
    "from difflib import SequenceMatcher, get_close_matches\n",
    "\n",
    "s1 = 'Brasserie Dieu du Ciel!'\n",
    "s2 = 'Brasserie Dieu du ciel!'\n",
    "s3 = 'Dieu du ciel!'\n",
    "s4 = 'Brasserie Dunham'\n",
    "s5 = 'Brasserie McAuslan'\n",
    "\n",
    "print(round(SequenceMatcher(None, s1, s2).ratio(), 3))\n",
    "print(round(SequenceMatcher(None, s1, s3).ratio(), 3))\n",
    "print(round(SequenceMatcher(None, s1, s4).ratio(), 3))\n",
    "print(round(SequenceMatcher(None, s1, s5).ratio(), 3))\n",
    "\n",
    "print(get_close_matches(s1, [s2, s3, s4, s5]))"
   ]
  },
  {
   "cell_type": "markdown",
   "metadata": {},
   "source": [
    "`SequenceMatcher` can compare two strings and return a measure of the similarity (the `ratio()`) between the two strings.  According to the documentation, the rule of thumb is a ratio of **0.6 or higher** is a close match.  `s1` and `s2` are very similar with a ratio of 0.957.  `s1` and `s5` fall below the rule of thumb threshold.  And `s1` and `s4`, with a ratio of 0.615, would have given us a **false positive** (e.g. it would have considered *Brasserie Dunham* as similar enough to *Brasserie Dieu du Ciel!*).  However, if we compare against the entire list of breweries, and take the highest ratio (if a ratio > 0.6 is found), then we can be reasonably confident a correct match was found.\n",
    "\n",
    "The method `get_close_matches()` returns a list of matches in order of descending similarity (with a default threshold of 0.6.)\n",
    "\n",
    "Let's use **difflib** and see how accurate we are in matching our 46 breweries.\n",
    "\n",
    "First create a list of all the beers where a matching brewery was not found:"
   ]
  },
  {
   "cell_type": "code",
   "execution_count": 24,
   "metadata": {
    "collapsed": false
   },
   "outputs": [
    {
     "name": "stdout",
     "output_type": "stream",
     "text": [
      "   rank                                 name_beer                            brewery                             style  abv  score  ratings name_brewery city province\n",
      "0     1                              Péché Mortel            Brasserie Dieu du Ciel!  American Double / Imperial Stout  9.5   4.39     5087          NaN  NaN      NaN\n",
      "1     2  Péché Mortel En Fût De Bourbon Américain            Brasserie Dieu du Ciel!  American Double / Imperial Stout  9.5   4.45      488          NaN  NaN      NaN\n",
      "4     5                               Fat Tug IPA                  Driftwood Brewery                      American IPA  7.0   4.25      601          NaN  NaN      NaN\n",
      "5     6            Red Racer IPA (India Pale Ale)  Central City Brewers + Distillers                      American IPA  6.5   4.23     1085          NaN  NaN      NaN\n",
      "9    10             Solstice D'été Aux Framboises            Brasserie Dieu du Ciel!                Berliner Weissbier  5.9   4.26      350          NaN  NaN      NaN\n"
     ]
    }
   ],
   "source": [
    "nan_breweries = df[df['name_brewery'].isnull()]\n",
    "print(nan_breweries.head())"
   ]
  },
  {
   "cell_type": "markdown",
   "metadata": {},
   "source": [
    "Now create a dataframe with the unique breweries to reduce the number of items we're processing.  With that shorter list we'll make a new column with the best matching brewery from `df2`. We'll also add a third column showing the similarity ratio as calculated by **difflib**."
   ]
  },
  {
   "cell_type": "code",
   "execution_count": 25,
   "metadata": {
    "collapsed": false
   },
   "outputs": [
    {
     "name": "stdout",
     "output_type": "stream",
     "text": [
      "                              brewery            match from df2  similarity\n",
      "2   Central City Brewers + Distillers  Central City Brewing Co.       0.632\n",
      "5                   Le Trou Du Diable         La Mare au Diable       0.647\n",
      "3                    McAuslan Brewing            Rurban Brewing       0.733\n",
      "1                   Driftwood Brewery     Driftwood Brewing Co.       0.737\n",
      "6    Howe Sound Inn & Brewing Company    Howe Sound Brewing Co.       0.778\n",
      "8         Parallel 49 Brewing Company       Parallel 49 Brewing       0.826\n",
      "11          Amsterdam Brewing Company     Amsterdam Brewing Co.       0.870\n",
      "10         Lighthouse Brewing Company    Lighthouse Brewing Co.       0.875\n",
      "7                  Yellow Dog Brewing    Yellow Dog Brewing Co.       0.900\n",
      "9                        Crannóg Ales              Crannog Ales       0.917\n",
      "0             Brasserie Dieu du Ciel!   Brasserie Dieu du ciel!       0.957\n",
      "4            Microbrasserie Le Castor  Microbrasserie le Castor       0.958\n"
     ]
    }
   ],
   "source": [
    "match_df = pd.DataFrame(nan_breweries['brewery'].unique(), columns=['brewery'])\n",
    "match_df['match from df2'] = match_df['brewery'].apply(lambda x: get_close_matches(x, df2['name'], n=1)[0])\n",
    "match_df['similarity'] = match_df.apply(lambda x: round(SequenceMatcher(None, x['brewery'], x['match from df2']).ratio(), 3), axis=1)\n",
    "match_df = match_df.sort_values(by='similarity')\n",
    "print(match_df)"
   ]
  },
  {
   "cell_type": "markdown",
   "metadata": {},
   "source": [
    "Not bad!  Out of the 12 breweries without a strict match in our Canadian brewery list, **difflib** was able to find a good match for most of them.  There are only two, McAuslan Brewing and Le Trou Du Diable, that don't look quite right.  Looks like we'll have to manually fix those.\n",
    "\n",
    "McAuslan Brewing corresponds to Brasserie McAuslan in our list of Canadian brewers `df2`.  We can change that in `match_df`.  But Le Trou Du Diable doesn't seem to correspond to anything on our list.  A quick web search show this brewer as based out of Shawinigan, Quebec, so we'll have to manually add this city and province.  For now, we'll set its corrected brewery as NaN so we can find it easily again later.\n",
    "\n",
    "> Note that we are setting NaN using one of Python's built in methods for the NaN object.  The more orthodox method (for a data scientist, anyways) is to use NumPy's np.NaN.  But I didn't want to get into NumPy here.\n",
    "{:.blockquote}"
   ]
  },
  {
   "cell_type": "code",
   "execution_count": 26,
   "metadata": {
    "collapsed": false
   },
   "outputs": [
    {
     "name": "stdout",
     "output_type": "stream",
     "text": [
      "                              brewery            match from df2  similarity         corrected brewery\n",
      "2   Central City Brewers + Distillers  Central City Brewing Co.       0.632  Central City Brewing Co.\n",
      "5                   Le Trou Du Diable         La Mare au Diable       0.647                       NaN\n",
      "3                    McAuslan Brewing            Rurban Brewing       0.733        Brasserie McAuslan\n",
      "1                   Driftwood Brewery     Driftwood Brewing Co.       0.737     Driftwood Brewing Co.\n",
      "6    Howe Sound Inn & Brewing Company    Howe Sound Brewing Co.       0.778    Howe Sound Brewing Co.\n",
      "8         Parallel 49 Brewing Company       Parallel 49 Brewing       0.826       Parallel 49 Brewing\n",
      "11          Amsterdam Brewing Company     Amsterdam Brewing Co.       0.870     Amsterdam Brewing Co.\n",
      "10         Lighthouse Brewing Company    Lighthouse Brewing Co.       0.875    Lighthouse Brewing Co.\n",
      "7                  Yellow Dog Brewing    Yellow Dog Brewing Co.       0.900    Yellow Dog Brewing Co.\n",
      "9                        Crannóg Ales              Crannog Ales       0.917              Crannog Ales\n",
      "0             Brasserie Dieu du Ciel!   Brasserie Dieu du ciel!       0.957   Brasserie Dieu du ciel!\n",
      "4            Microbrasserie Le Castor  Microbrasserie le Castor       0.958  Microbrasserie le Castor\n"
     ]
    }
   ],
   "source": [
    "match_df['corrected brewery'] = match_df['match from df2']\n",
    "match_df.loc[match_df['brewery'] == 'McAuslan Brewing', 'corrected brewery'] = 'Brasserie McAuslan'\n",
    "match_df.loc[match_df['brewery'] == 'Le Trou Du Diable', 'corrected brewery'] = float('NaN')\n",
    "print(match_df)"
   ]
  },
  {
   "cell_type": "markdown",
   "metadata": {},
   "source": [
    "# 5. Fixing NaN Values\n",
    "\n",
    "Now we will finally go back to our merged dataframe `df` and fix the NaN values. We'll use the index of `nan_breweries` to only modify the observations we identified earlier as having an unmatched brewery.\n",
    "\n",
    "Using `match_df`, we can very quickly replace all the NaN values in `name_brewery` with the corrected brewery.  Then we can go back and replace the city and province of these corrected breweries with the location information in `df2`.  Finally, we manually enter the location (Shawinigan, Quebec) for our brewery that wasn't in the `df2`, Le Trou Du Diable."
   ]
  },
  {
   "cell_type": "code",
   "execution_count": 27,
   "metadata": {
    "collapsed": false
   },
   "outputs": [],
   "source": [
    "# Replace the unmatched breweries with the corrected ones\n",
    "df.loc[nan_breweries.index, 'name_brewery'] = df['brewery'].replace(match_df.set_index('brewery')['corrected brewery'])\n",
    "\n",
    "# REWRITE BELOW LINE TO ONLY AFFECT THE CORRECTED BREWERIES\n",
    "\n",
    "# Update the city and province of the corrected breweries\n",
    "df.loc[nan_breweries.index, 'city'] = df['name_brewery'].replace(df2.set_index('name')['city'])\n",
    "df.loc[nan_breweries.index, 'province'] = df['name_brewery'].replace(df2.set_index('name')['province'])\n",
    "\n",
    "# Manually enter city and province for the brewery Le Trou Du Diable\n",
    "le_trou_du_diable = ['Le Trou Du Diable', 'Shawinigan', 'Quebec']\n",
    "df.loc[df['brewery']==\"Le Trou Du Diable\", ['name_brewery', 'city', 'province']] = le_trou_du_diable"
   ]
  },
  {
   "cell_type": "markdown",
   "metadata": {},
   "source": [
    "# 6. Cleanup\n",
    "Now that our dataframe is complete, we'll do a bit of cleanup before saving the dataframe as a CSV."
   ]
  },
  {
   "cell_type": "code",
   "execution_count": 28,
   "metadata": {
    "collapsed": false
   },
   "outputs": [
    {
     "name": "stdout",
     "output_type": "stream",
     "text": [
      "   rank                                      name                  brewery                             style   abv  score  ratings          city          province\n",
      "0     1                              Péché Mortel  Brasserie Dieu du Ciel!  American Double / Imperial Stout   9.5   4.39     5087  Saint-Jérôme            Quebec\n",
      "1     2  Péché Mortel En Fût De Bourbon Américain  Brasserie Dieu du Ciel!  American Double / Imperial Stout   9.5   4.45      488  Saint-Jérôme            Quebec\n",
      "2     3                           La Fin Du Monde                 Unibroue                            Tripel   9.0   4.31    10021       Chambly            Quebec\n",
      "3     4                Unibroue 17 Grande Réserve                 Unibroue           Belgian Strong Dark Ale  10.0   4.24     1140       Chambly            Quebec\n",
      "4     5                               Fat Tug IPA        Driftwood Brewery                      American IPA   7.0   4.25      601      Victoria  British Columbia\n"
     ]
    }
   ],
   "source": [
    "df = df.drop('name_brewery', axis=1)  # remove redundant variable\n",
    "df = df.rename(columns={'name_beer': 'name'})\n",
    "print(df.head())\n",
    "\n",
    "filename = './data/top_100_canadian_beers_with_city.csv'\n",
    "df.to_csv(filename, index=False, encoding='utf-8')"
   ]
  },
  {
   "cell_type": "markdown",
   "metadata": {},
   "source": [
    "# Conclusion\n",
    "Well done!  We've added location data for each of the breweries responsible for a beer on BeerAdvocate.com's Top 100 Beers from Canada.  In doing so, we touched on:\n",
    "- Common problems when joining data from different sources\n",
    "- Finding and fixing duplicate values\n",
    "- Dealing with variations in text data\n",
    "- Python's **difflib** library\n",
    "- Slicing and dicing with *pandas*\n",
    "\n",
    "We're now ready to explore this dataset.  Future tutorials will use this dataset to show how **insight** can be derived from **visualization**. Thanks for reading!\n",
    "\n",
    "> Have a question about this topic, or a suggestion for a future topic?  Please, leave a comment below!\n",
    "{:.blockquote}\n",
    "\n",
    "### Resources\n",
    "- Python's **difflib** [documentation](https://docs.python.org/3.6/library/difflib.html)\n",
    "- *pandas* [Cookbook](http://pandas.pydata.org/pandas-docs/stable/cookbook.html), useful recipes"
   ]
  }
 ],
 "metadata": {
  "kernelspec": {
   "display_name": "Python 3",
   "language": "python",
   "name": "python3"
  },
  "language_info": {
   "codemirror_mode": {
    "name": "ipython",
    "version": 3
   },
   "file_extension": ".py",
   "mimetype": "text/x-python",
   "name": "python",
   "nbconvert_exporter": "python",
   "pygments_lexer": "ipython3",
   "version": "3.6.0"
  }
 },
 "nbformat": 4,
 "nbformat_minor": 2
}
