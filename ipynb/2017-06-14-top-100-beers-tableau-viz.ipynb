{
 "cells": [
  {
   "cell_type": "markdown",
   "metadata": {},
   "source": [
    "# Visualization with Tableau\n",
    "**Tableau** is my go-to for interactive visualizations after cleaning data in Python.  Here's one I quickly put together using the [Top 100 Beers dataset]({% post_url 2017-05-16-merging-data %}) we created in an earlier tutorial.  Since I can't embed it into GitHub Pages, clicking the graphic below will take you to the interactive viz hosted by Tableau.  Enjoy!\n",
    "\n",
    "*Note that the viz is meant to be viewed at desktop size, not on a phone or tablet.*"
   ]
  },
  {
   "cell_type": "markdown",
   "metadata": {},
   "source": [
    "[![png](top-100-beers-tableau-viz_files/top-100-beers-tableau-viz-screenshot.png){:class="img-fluid mx-auto d-block"}](https://public.tableau.com/profile/sam3557#!/vizhome/Top100BeersofCanadaDRAFT/Dashboard){:target="_blank"}"
   ]
  },
  {
   "cell_type": "markdown",
   "metadata": {},
   "source": [
    "[(link to Viz)](https://public.tableau.com/profile/sam3557#!/vizhome/Top100BeersofCanadaDRAFT/Dashboard){:target="_blank"}"
   ]
  },
  {
   "cell_type": "markdown",
   "metadata": {},
   "source": [
    "> Have a question about this topic, or a suggestion for a future topic?  Please, leave a comment below!\n",
    "{:.blockquote}"
   ]
  }
 ],
 "metadata": {
  "kernelspec": {
   "display_name": "Python 3",
   "language": "python",
   "name": "python3"
  },
  "language_info": {
   "codemirror_mode": {
    "name": "ipython",
    "version": 3
   },
   "file_extension": ".py",
   "mimetype": "text/x-python",
   "name": "python",
   "nbconvert_exporter": "python",
   "pygments_lexer": "ipython3",
   "version": "3.6.0"
  }
 },
 "nbformat": 4,
 "nbformat_minor": 2
}
